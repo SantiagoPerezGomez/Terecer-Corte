{
  "nbformat": 4,
  "nbformat_minor": 0,
  "metadata": {
    "colab": {
      "provenance": []
    },
    "kernelspec": {
      "name": "python3",
      "display_name": "Python 3"
    },
    "language_info": {
      "name": "python"
    }
  },
  "cells": [
    {
      "cell_type": "code",
      "execution_count": null,
      "metadata": {
        "id": "v_zQdIQFmlfL"
      },
      "outputs": [],
      "source": []
    },
    {
      "cell_type": "code",
      "metadata": {
        "id": "pHmVXG3DcBku"
      },
      "source": [
        "matrizNumeros = [[7,8,3],[1,9,2],[4,6,5]]\n",
        "print(matrizNumeros)\n",
        "\n",
        "#suma de todos los elementos de la matriz\n",
        "\n",
        "sumEleMat=0\n",
        "for f in range(3):\n",
        " for c in range(3):\n",
        "  sumEleMat=sumEleMat+matrizNumeros[f][c]\n",
        "print(\"la suma de los elemntos es: \",sumEleMat)  \n",
        "\n",
        "#imprimir matriz\n",
        "for f in range(3):\n",
        " for c in range(3):\n",
        "  print(\"dato: \",matrizNumeros[f][c])\n",
        "\n",
        "#sumar la diagonal principal \n",
        "sumDiaPrin=0\n",
        "for pos in range(3):\n",
        " sumDiaPrin=sumDiaPrin+matrizNumeros[pos][pos]\n",
        "print(\"diagonal principal\", sumDiaPrin)"
      ],
      "execution_count": null,
      "outputs": []
    }
  ]
}