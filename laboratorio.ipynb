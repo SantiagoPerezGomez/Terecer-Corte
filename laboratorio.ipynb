{
  "nbformat": 4,
  "nbformat_minor": 0,
  "metadata": {
    "colab": {
      "provenance": []
    },
    "kernelspec": {
      "name": "python3",
      "display_name": "Python 3"
    },
    "language_info": {
      "name": "python"
    }
  },
  "cells": [
    {
      "cell_type": "code",
      "metadata": {
        "id": "VT5jMsY0cBoQ"
      },
      "source": [
        "#laboratorio de pandas-funciones basicas\n",
        "import pandas as pd\n",
        "\n",
        "#pandas maneja los datos de forma tabulada, se denomia datafarme, compuesto por filas y columnas\n",
        "\n",
        "notasFundamentos=pd.DataFrame({'nombres':['andres','sebastian','laura','camila'],'semestre':[2,3,3,2]})\n",
        "\n",
        "#inser para agregar datos\n",
        "notasFundamentos.insert(2,'ciudad',['manizales','pereira','manizales','pereira'])\n",
        "#print\n",
        "notasFundamentos['nota1']=4\n",
        "\n",
        "#añadir valores diferentes haciendo uso del metodo operador\n",
        "notasFundamentos['notas2']=[3,5,4,4]\n",
        "\n",
        "#añadir filas a nuestro Df loc, append\n",
        "\n",
        "#loc\n",
        "\n",
        "notasFundamentos.loc[4]=['maria',2,'manizales',5,4]\n",
        "\n",
        "#append\n",
        "\n",
        "notasFundamentos.append({'semestre':2,'nota1':3,'nombres':'lucia','ciudad':'armenia','notas2':5},ignore_index =True)\n",
        "\n",
        "#modificar datos\n",
        "notasFundamentos.iloc[2,2]='uganda'\n",
        "\n",
        "#filtros\n",
        "\n",
        "notasFundamentos.iloc[2,3]=1\n",
        "notasFundamentos\n",
        "\n",
        "#agrupacion de datos"
      ],
      "execution_count": null,
      "outputs": []
    }
  ]
}